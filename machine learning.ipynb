{
 "cells": [
  {
   "cell_type": "code",
   "execution_count": 1,
   "id": "8d36eba0-5c06-455f-b0dd-401a84bea2c7",
   "metadata": {},
   "outputs": [
    {
     "name": "stdout",
     "output_type": "stream",
     "text": [
      "Requirement already satisfied: scikit-image in c:\\users\\anshr\\anaconda3\\lib\\site-packages (0.25.2)\n",
      "Requirement already satisfied: numpy>=1.24 in c:\\users\\anshr\\anaconda3\\lib\\site-packages (from scikit-image) (1.26.4)\n",
      "Requirement already satisfied: scipy>=1.11.4 in c:\\users\\anshr\\anaconda3\\lib\\site-packages (from scikit-image) (1.13.1)\n",
      "Requirement already satisfied: networkx>=3.0 in c:\\users\\anshr\\anaconda3\\lib\\site-packages (from scikit-image) (3.2.1)\n",
      "Requirement already satisfied: pillow>=10.1 in c:\\users\\anshr\\anaconda3\\lib\\site-packages (from scikit-image) (10.3.0)\n",
      "Requirement already satisfied: imageio!=2.35.0,>=2.33 in c:\\users\\anshr\\anaconda3\\lib\\site-packages (from scikit-image) (2.33.1)\n",
      "Requirement already satisfied: tifffile>=2022.8.12 in c:\\users\\anshr\\anaconda3\\lib\\site-packages (from scikit-image) (2023.4.12)\n",
      "Requirement already satisfied: packaging>=21 in c:\\users\\anshr\\anaconda3\\lib\\site-packages (from scikit-image) (23.2)\n",
      "Requirement already satisfied: lazy-loader>=0.4 in c:\\users\\anshr\\anaconda3\\lib\\site-packages (from scikit-image) (0.4)\n"
     ]
    }
   ],
   "source": [
    "!pip install -U scikit-image"
   ]
  },
  {
   "cell_type": "code",
   "execution_count": 2,
   "id": "cb5361c3-56ac-4bbc-9e01-82afb99ce4fb",
   "metadata": {},
   "outputs": [
    {
     "name": "stdout",
     "output_type": "stream",
     "text": [
      "Requirement already satisfied: scikit-image in c:\\users\\anshr\\anaconda3\\lib\\site-packages (0.25.2)\n",
      "Requirement already satisfied: numpy>=1.24 in c:\\users\\anshr\\anaconda3\\lib\\site-packages (from scikit-image) (1.26.4)\n",
      "Requirement already satisfied: scipy>=1.11.4 in c:\\users\\anshr\\anaconda3\\lib\\site-packages (from scikit-image) (1.13.1)\n",
      "Requirement already satisfied: networkx>=3.0 in c:\\users\\anshr\\anaconda3\\lib\\site-packages (from scikit-image) (3.2.1)\n",
      "Requirement already satisfied: pillow>=10.1 in c:\\users\\anshr\\anaconda3\\lib\\site-packages (from scikit-image) (10.3.0)\n",
      "Requirement already satisfied: imageio!=2.35.0,>=2.33 in c:\\users\\anshr\\anaconda3\\lib\\site-packages (from scikit-image) (2.33.1)\n",
      "Requirement already satisfied: tifffile>=2022.8.12 in c:\\users\\anshr\\anaconda3\\lib\\site-packages (from scikit-image) (2023.4.12)\n",
      "Requirement already satisfied: packaging>=21 in c:\\users\\anshr\\anaconda3\\lib\\site-packages (from scikit-image) (23.2)\n",
      "Requirement already satisfied: lazy-loader>=0.4 in c:\\users\\anshr\\anaconda3\\lib\\site-packages (from scikit-image) (0.4)\n",
      "Note: you may need to restart the kernel to use updated packages.\n"
     ]
    }
   ],
   "source": [
    "pip install --upgrade scikit-image"
   ]
  },
  {
   "cell_type": "code",
   "execution_count": 3,
   "id": "90aed321-5b0d-4256-9763-8dbd57e25416",
   "metadata": {},
   "outputs": [
    {
     "name": "stdout",
     "output_type": "stream",
     "text": [
      "Requirement already satisfied: tqdm in c:\\users\\anshr\\anaconda3\\lib\\site-packages (4.66.4)\n",
      "Requirement already satisfied: colorama in c:\\users\\anshr\\anaconda3\\lib\\site-packages (from tqdm) (0.4.6)\n"
     ]
    }
   ],
   "source": [
    "!pip install tqdm"
   ]
  },
  {
   "cell_type": "code",
   "execution_count": 4,
   "id": "3b85d75d-debd-4f2c-b7f8-5f8a3c0cca58",
   "metadata": {},
   "outputs": [],
   "source": [
    "import pandas as pd\n",
    "import numpy as np\n",
    "import cv2\n",
    "import os\n",
    "from skimage.feature import graycomatrix, graycoprops, hog\n",
    "from skimage import io, color, exposure\n",
    "from sklearn.model_selection import train_test_split\n",
    "from sklearn.ensemble import RandomForestClassifier\n",
    "from sklearn.svm import SVC\n",
    "from sklearn.metrics import accuracy_score, confusion_matrix, classification_report\n",
    "from sklearn.preprocessing import StandardScaler\n",
    "from sklearn.decomposition import PCA\n",
    "import matplotlib.pyplot as plt\n",
    "import seaborn as sns\n",
    "from sklearn.metrics import classification_report, accuracy_score\n",
    "from sklearn.model_selection import train_test_split\n",
    "from sklearn.metrics import roc_curve, auc\n",
    "from sklearn.preprocessing import LabelEncoder\n",
    "from sklearn.metrics import accuracy_score\n",
    "from sklearn.preprocessing import label_binarize"
   ]
  },
  {
   "cell_type": "code",
   "execution_count": 5,
   "id": "ed0508e3-bc89-4fe3-a6d3-d6cec8dd3819",
   "metadata": {},
   "outputs": [],
   "source": [
    "from sklearn.preprocessing import LabelEncoder\n",
    "from tqdm import tqdm"
   ]
  },
  {
   "cell_type": "code",
   "execution_count": 6,
   "id": "44b49e2f-1743-43d6-93ee-234d676e6b4d",
   "metadata": {},
   "outputs": [],
   "source": [
    "image_size = (128, 128)  # Resize all images to 128x128 for uniformity\n"
   ]
  },
  {
   "cell_type": "code",
   "execution_count": 7,
   "id": "62cfa56b-d7ee-4329-92d9-0e56cfc26959",
   "metadata": {},
   "outputs": [],
   "source": [
    "def extract_glcm_features(image, distances=[1], angles=[0], levels=256):\n",
    "    glcm = graycomatrix(image, distances=distances, angles=angles, levels=levels, symmetric=True, normed=True)\n",
    "    features = [\n",
    "        graycoprops(glcm, 'contrast')[0, 0],\n",
    "        graycoprops(glcm, 'dissimilarity')[0, 0],\n",
    "        graycoprops(glcm, 'homogeneity')[0, 0],\n",
    "        graycoprops(glcm, 'energy')[0, 0],\n",
    "        graycoprops(glcm, 'correlation')[0, 0],\n",
    "        graycoprops(glcm, 'ASM')[0, 0],\n",
    "    ]\n",
    "    return features\n"
   ]
  },
  {
   "cell_type": "code",
   "execution_count": 8,
   "id": "fd469b4e-bd67-4df5-a3a4-e40934b9501b",
   "metadata": {},
   "outputs": [],
   "source": [
    "def extract_hog_features(image):\n",
    "    features, _ = hog(image,\n",
    "                      orientations=9,\n",
    "                      pixels_per_cell=(8, 8),\n",
    "                      cells_per_block=(2, 2),\n",
    "                      visualize=True,\n",
    "                      feature_vector=True)\n",
    "    return features\n"
   ]
  },
  {
   "cell_type": "code",
   "execution_count": 9,
   "id": "8c553632-0d82-4937-9a4e-c1adfb1acc55",
   "metadata": {},
   "outputs": [],
   "source": [
    "def extract_features_labels(data_path):\n",
    "    features = []\n",
    "    labels = []\n",
    "\n",
    "    for label in os.listdir(data_path):\n",
    "        class_path = os.path.join(data_path, label)\n",
    "        if not os.path.isdir(class_path):\n",
    "            continue\n",
    "\n",
    "        for file in tqdm(os.listdir(class_path), desc=f\"Processing {label}\"):\n",
    "            file_path = os.path.join(class_path, file)\n",
    "            img = cv2.imread(file_path, cv2.IMREAD_GRAYSCALE)\n",
    "            if img is None:\n",
    "                continue\n",
    "            img = cv2.resize(img, image_size)\n",
    "\n",
    "            # Extract features\n",
    "            glcm_feats = extract_glcm_features(img)\n",
    "            hog_feats = extract_hog_features(img)\n",
    "            combined_feats = np.hstack((glcm_feats, hog_feats))\n",
    "\n",
    "            features.append(combined_feats)\n",
    "            labels.append(label)\n",
    "\n",
    "    return np.array(features), np.array(labels)\n"
   ]
  },
  {
   "cell_type": "code",
   "execution_count": 10,
   "id": "b46b86e8-6587-42b0-89e8-0bf0f8d381a3",
   "metadata": {},
   "outputs": [
    {
     "name": "stderr",
     "output_type": "stream",
     "text": [
      "Processing .ipynb_checkpoints: 100%|████████████████████████████████████████████████████| 1/1 [00:00<00:00, 502.67it/s]\n",
      "Processing Bengin_cases: 100%|███████████████████████████████████████████████████████| 120/120 [00:32<00:00,  3.70it/s]\n",
      "Processing Malignant_cases: 100%|████████████████████████████████████████████████████| 561/561 [01:58<00:00,  4.73it/s]\n",
      "Processing Normal_cases: 100%|███████████████████████████████████████████████████████| 417/417 [01:29<00:00,  4.66it/s]\n"
     ]
    }
   ],
   "source": [
    "data_path = \"ml_dataset\"  # Replace with your actual dataset path\n",
    "X, y = extract_features_labels(data_path)\n"
   ]
  },
  {
   "cell_type": "code",
   "execution_count": 11,
   "id": "110f4703-843f-490d-b77b-c1eaf29fa147",
   "metadata": {},
   "outputs": [],
   "source": [
    "le = LabelEncoder()\n",
    "y_encoded = le.fit_transform(y)"
   ]
  },
  {
   "cell_type": "code",
   "execution_count": 12,
   "id": "0822e99f-14ff-483b-86b8-969d0b13a5b0",
   "metadata": {},
   "outputs": [],
   "source": [
    "X_train, X_test, y_train, y_test = train_test_split(X, y_encoded, test_size=0.2, random_state=42)\n"
   ]
  },
  {
   "cell_type": "code",
   "execution_count": 13,
   "id": "0e9b5d60-0fdc-4b79-b5fb-1db30e0927c2",
   "metadata": {},
   "outputs": [
    {
     "data": {
      "text/plain": [
       "'ml_dataset'"
      ]
     },
     "execution_count": 13,
     "metadata": {},
     "output_type": "execute_result"
    }
   ],
   "source": [
    "data_path"
   ]
  },
  {
   "cell_type": "code",
   "execution_count": 14,
   "id": "b222ffad-944f-4115-b06b-3ea09faf4062",
   "metadata": {},
   "outputs": [],
   "source": [
    "from sklearn.metrics import confusion_matrix, ConfusionMatrixDisplay\n",
    "import matplotlib.pyplot as plt"
   ]
  },
  {
   "cell_type": "code",
   "execution_count": 15,
   "id": "5d7c0a99-c8b2-4cfb-a036-1396f110059e",
   "metadata": {},
   "outputs": [
    {
     "name": "stdout",
     "output_type": "stream",
     "text": [
      "Encoded Labels: [0 1 2]\n"
     ]
    }
   ],
   "source": [
    "print(\"Encoded Labels:\", np.unique(y_encoded)) #since it is having 3 label so auc-roc curve is not possible"
   ]
  },
  {
   "cell_type": "code",
   "execution_count": 16,
   "id": "05f2da26-2b26-4589-a7e3-526002f19fb7",
   "metadata": {},
   "outputs": [
    {
     "name": "stdout",
     "output_type": "stream",
     "text": [
      "📊 Random Forest Results:\n",
      "Accuracy: 0.9045454545454545\n",
      "              precision    recall  f1-score   support\n",
      "\n",
      "           0       1.00      0.38      0.55        29\n",
      "           1       0.95      1.00      0.97       109\n",
      "           2       0.84      0.96      0.90        82\n",
      "\n",
      "    accuracy                           0.90       220\n",
      "   macro avg       0.93      0.78      0.81       220\n",
      "weighted avg       0.91      0.90      0.89       220\n",
      "\n"
     ]
    },
    {
     "data": {
      "image/png": "[encoded data removed]",
      "text/plain": [
       "<Figure size 640x480 with 2 Axes>"
      ]
     },
     "metadata": {},
     "output_type": "display_data"
    }
   ],
   "source": [
    "rf = RandomForestClassifier(n_estimators=100, random_state=42)\n",
    "rf.fit(X_train, y_train)\n",
    "rf_pred = rf.predict(X_test)\n",
    "print(\"📊 Random Forest Results:\")\n",
    "print(\"Accuracy:\", accuracy_score(y_test, rf_pred))\n",
    "print(classification_report(y_test, rf_pred))\n",
    "rf_cm = confusion_matrix(y_test, rf_pred)\n",
    "rf_disp = ConfusionMatrixDisplay(confusion_matrix=rf_cm, display_labels=rf.classes_)\n",
    "rf_disp.plot(cmap=plt.cm.Blues)\n",
    "plt.title(\"Random Forest - Confusion Matrix\")\n",
    "plt.show()"
   ]
  },
  {
   "cell_type": "code",
   "execution_count": 17,
   "id": "31f22d8d-36c4-4fcd-b508-cfc9dfae4ac8",
   "metadata": {},
   "outputs": [],
   "source": [
    "from sklearn.neighbors import KNeighborsClassifier\n",
    "from sklearn.metrics import classification_report, accuracy_score"
   ]
  },
  {
   "cell_type": "code",
   "execution_count": 18,
   "id": "ffd9ae76-1f18-4824-8772-4fe505e339f3",
   "metadata": {},
   "outputs": [
    {
     "name": "stdout",
     "output_type": "stream",
     "text": [
      "📊 KNN Results:\n",
      "Accuracy: 0.7954545454545454\n",
      "              precision    recall  f1-score   support\n",
      "\n",
      "           0       0.68      0.45      0.54        29\n",
      "           1       0.86      0.85      0.86       109\n",
      "           2       0.74      0.84      0.79        82\n",
      "\n",
      "    accuracy                           0.80       220\n",
      "   macro avg       0.76      0.71      0.73       220\n",
      "weighted avg       0.79      0.80      0.79       220\n",
      "\n"
     ]
    },
    {
     "data": {
      "image/png": "[encoded data removed]",
      "text/plain": [
       "<Figure size 640x480 with 2 Axes>"
      ]
     },
     "metadata": {},
     "output_type": "display_data"
    }
   ],
   "source": [
    "knn = KNeighborsClassifier(n_neighbors=5)\n",
    "knn.fit(X_train, y_train)\n",
    "knn_pred = knn.predict(X_test)\n",
    "\n",
    "print(\"📊 KNN Results:\")\n",
    "print(\"Accuracy:\", accuracy_score(y_test, knn_pred))\n",
    "print(classification_report(y_test, knn_pred))\n",
    "knn_cm = confusion_matrix(y_test, knn_pred)\n",
    "knn_disp = ConfusionMatrixDisplay(confusion_matrix=knn_cm, display_labels=knn.classes_)\n",
    "knn_disp.plot(cmap=plt.cm.Greens)\n",
    "plt.title(\"KNN - Confusion Matrix\")\n",
    "plt.show()"
   ]
  },
  {
   "cell_type": "code",
   "execution_count": 19,
   "id": "8bb396bd-d48a-449a-af50-a3f2a226bb9f",
   "metadata": {},
   "outputs": [
    {
     "name": "stdout",
     "output_type": "stream",
     "text": [
      "📊 SVM Results:\n",
      "Accuracy: 0.9863636363636363\n",
      "              precision    recall  f1-score   support\n",
      "\n",
      "           0       1.00      0.93      0.96        29\n",
      "           1       0.99      1.00      1.00       109\n",
      "           2       0.98      0.99      0.98        82\n",
      "\n",
      "    accuracy                           0.99       220\n",
      "   macro avg       0.99      0.97      0.98       220\n",
      "weighted avg       0.99      0.99      0.99       220\n",
      "\n"
     ]
    }
   ],
   "source": [
    "svm = SVC(kernel='linear', C=1.0, random_state=42)\n",
    "svm.fit(X_train, y_train)\n",
    "svm_pred = svm.predict(X_test)\n",
    "\n",
    "print(\"📊 SVM Results:\")\n",
    "print(\"Accuracy:\", accuracy_score(y_test, svm_pred))\n",
    "print(classification_report(y_test, svm_pred))"
   ]
  },
  {
   "cell_type": "code",
   "execution_count": 20,
   "id": "6f90b0b8-8d18-4c94-b059-131470a169a3",
   "metadata": {},
   "outputs": [
    {
     "data": {
      "image/png": "[encoded data removed]",
      "text/plain": [
       "<Figure size 640x480 with 2 Axes>"
      ]
     },
     "metadata": {},
     "output_type": "display_data"
    }
   ],
   "source": [
    "svm_cm = confusion_matrix(y_test, svm_pred)\n",
    "svm_disp = ConfusionMatrixDisplay(confusion_matrix=svm_cm, display_labels=svm.classes_)\n",
    "svm_disp.plot(cmap=plt.cm.Oranges)\n",
    "plt.title(\"SVM - Confusion Matrix\")\n",
    "plt.show()"
   ]
  },
  {
   "cell_type": "code",
   "execution_count": 21,
   "id": "cba84468-0172-43f6-810e-d1388725b256",
   "metadata": {},
   "outputs": [
    {
     "name": "stderr",
     "output_type": "stream",
     "text": [
      "Processing .ipynb_checkpoints: 100%|█████████████████████████████████████████████████████████████| 1/1 [00:00<?, ?it/s]\n",
      "Processing Bengin_cases: 100%|███████████████████████████████████████████████████████| 120/120 [00:28<00:00,  4.21it/s]\n",
      "Processing Malignant_cases: 100%|████████████████████████████████████████████████████| 561/561 [02:07<00:00,  4.41it/s]\n",
      "Processing Normal_cases: 100%|███████████████████████████████████████████████████████| 417/417 [01:27<00:00,  4.77it/s]\n"
     ]
    },
    {
     "name": "stdout",
     "output_type": "stream",
     "text": [
      "\n",
      "🔍 Training and Evaluating: KNN\n",
      "✅ Accuracy (KNN): 0.9545\n",
      "📊 Classification Report for KNN:\n",
      "                 precision    recall  f1-score   support\n",
      "\n",
      "   Bengin_cases       1.00      0.66      0.79        29\n",
      "Malignant_cases       1.00      1.00      1.00       109\n",
      "   Normal_cases       0.89      1.00      0.94        82\n",
      "\n",
      "       accuracy                           0.95       220\n",
      "      macro avg       0.96      0.89      0.91       220\n",
      "   weighted avg       0.96      0.95      0.95       220\n",
      "\n",
      "\n",
      "🔍 Training and Evaluating: Random Forest\n",
      "✅ Accuracy (Random Forest): 0.9045\n",
      "📊 Classification Report for Random Forest:\n",
      "                 precision    recall  f1-score   support\n",
      "\n",
      "   Bengin_cases       1.00      0.38      0.55        29\n",
      "Malignant_cases       0.95      1.00      0.97       109\n",
      "   Normal_cases       0.84      0.96      0.90        82\n",
      "\n",
      "       accuracy                           0.90       220\n",
      "      macro avg       0.93      0.78      0.81       220\n",
      "   weighted avg       0.91      0.90      0.89       220\n",
      "\n",
      "\n",
      "🔍 Training and Evaluating: SVM\n",
      "✅ Accuracy (SVM): 0.9864\n",
      "📊 Classification Report for SVM:\n",
      "                 precision    recall  f1-score   support\n",
      "\n",
      "   Bengin_cases       1.00      0.93      0.96        29\n",
      "Malignant_cases       0.99      1.00      1.00       109\n",
      "   Normal_cases       0.98      0.99      0.98        82\n",
      "\n",
      "       accuracy                           0.99       220\n",
      "      macro avg       0.99      0.97      0.98       220\n",
      "   weighted avg       0.99      0.99      0.99       220\n",
      "\n"
     ]
    }
   ],
   "source": [
    "import os\n",
    "import cv2\n",
    "import numpy as np\n",
    "from tqdm import tqdm\n",
    "from skimage.feature import graycomatrix, graycoprops, hog\n",
    "from sklearn.model_selection import train_test_split\n",
    "from sklearn.preprocessing import LabelEncoder, StandardScaler\n",
    "from sklearn.metrics import accuracy_score, classification_report\n",
    "from sklearn.svm import SVC\n",
    "from sklearn.ensemble import RandomForestClassifier\n",
    "from sklearn.neighbors import KNeighborsClassifier\n",
    "\n",
    "# Constants\n",
    "IMAGE_SIZE = (128, 128)\n",
    "\n",
    "# ---------------------\n",
    "# Feature extractors\n",
    "# ---------------------\n",
    "def extract_glcm_features(image):\n",
    "    glcm = graycomatrix(image, distances=[1], angles=[0], levels=256, symmetric=True, normed=True)\n",
    "    props = ['contrast', 'dissimilarity', 'homogeneity', 'energy', 'correlation', 'ASM']\n",
    "    return [graycoprops(glcm, prop)[0, 0] for prop in props]\n",
    "\n",
    "def extract_hog_features(image):\n",
    "    features, _ = hog(image,\n",
    "                      orientations=9,\n",
    "                      pixels_per_cell=(8, 8),\n",
    "                      cells_per_block=(2, 2),\n",
    "                      visualize=True,\n",
    "                      feature_vector=True)\n",
    "    return features\n",
    "\n",
    "def extract_features_labels(data_path):\n",
    "    features = []\n",
    "    labels = []\n",
    "\n",
    "    for label in os.listdir(data_path):\n",
    "        class_path = os.path.join(data_path, label)\n",
    "        if not os.path.isdir(class_path):\n",
    "            continue\n",
    "\n",
    "        for file in tqdm(os.listdir(class_path), desc=f\"Processing {label}\"):\n",
    "            file_path = os.path.join(class_path, file)\n",
    "            img = cv2.imread(file_path, cv2.IMREAD_GRAYSCALE)\n",
    "            if img is None:\n",
    "                continue\n",
    "            img = cv2.resize(img, IMAGE_SIZE)\n",
    "\n",
    "            try:\n",
    "                glcm_feats = extract_glcm_features(img)\n",
    "                hog_feats = extract_hog_features(img)\n",
    "                combined_feats = np.hstack((glcm_feats, hog_feats))\n",
    "                features.append(combined_feats)\n",
    "                labels.append(label)\n",
    "            except:\n",
    "                continue\n",
    "\n",
    "    return np.array(features), np.array(labels)\n",
    "\n",
    "# ---------------------\n",
    "# Load and preprocess data\n",
    "# ---------------------\n",
    "data_path = \"ml_dataset\"  # change to your actual path\n",
    "X, y = extract_features_labels(data_path)\n",
    "\n",
    "le = LabelEncoder()\n",
    "y_encoded = le.fit_transform(y)\n",
    "\n",
    "scaler = StandardScaler()\n",
    "X_scaled = scaler.fit_transform(X)\n",
    "\n",
    "X_train, X_test, y_train, y_test = train_test_split(X_scaled, y_encoded, test_size=0.2, random_state=42)\n",
    "\n",
    "# ---------------------\n",
    "# Train and evaluate classifiers\n",
    "# ---------------------\n",
    "models = {\n",
    "    \"KNN\": KNeighborsClassifier(n_neighbors=5),\n",
    "    \"Random Forest\": RandomForestClassifier(n_estimators=100, random_state=42),\n",
    "    \"SVM\": SVC(kernel='linear', C=1.0, random_state=42)\n",
    "}\n",
    "\n",
    "for name, model in models.items():\n",
    "    print(f\"\\n🔍 Training and Evaluating: {name}\")\n",
    "    model.fit(X_train, y_train)\n",
    "    y_pred = model.predict(X_test)\n",
    "\n",
    "    acc = accuracy_score(y_test, y_pred)\n",
    "    print(f\"✅ Accuracy ({name}): {acc:.4f}\")\n",
    "    print(f\"📊 Classification Report for {name}:\\n{classification_report(y_test, y_pred, target_names=le.classes_)}\")\n"
   ]
  },
  {
   "cell_type": "code",
   "execution_count": 22,
   "id": "792e4fa3-2955-4320-b711-349bd1089a35",
   "metadata": {},
   "outputs": [
    {
     "name": "stdout",
     "output_type": "stream",
     "text": [
      "\n",
      "🔍 Training and Evaluating: KNN\n",
      "✅ Accuracy (KNN): 0.9545\n",
      "📊 Classification Report for KNN:\n",
      "                 precision    recall  f1-score   support\n",
      "\n",
      "   Bengin_cases       1.00      0.66      0.79        29\n",
      "Malignant_cases       1.00      1.00      1.00       109\n",
      "   Normal_cases       0.89      1.00      0.94        82\n",
      "\n",
      "       accuracy                           0.95       220\n",
      "      macro avg       0.96      0.89      0.91       220\n",
      "   weighted avg       0.96      0.95      0.95       220\n",
      "\n",
      "\n",
      "🔍 Training and Evaluating: Random Forest\n",
      "✅ Accuracy (Random Forest): 0.9045\n",
      "📊 Classification Report for Random Forest:\n",
      "                 precision    recall  f1-score   support\n",
      "\n",
      "   Bengin_cases       1.00      0.38      0.55        29\n",
      "Malignant_cases       0.95      1.00      0.97       109\n",
      "   Normal_cases       0.84      0.96      0.90        82\n",
      "\n",
      "       accuracy                           0.90       220\n",
      "      macro avg       0.93      0.78      0.81       220\n",
      "   weighted avg       0.91      0.90      0.89       220\n",
      "\n",
      "\n",
      "🔍 Training and Evaluating: SVM\n",
      "✅ Accuracy (SVM): 0.9864\n",
      "📊 Classification Report for SVM:\n",
      "                 precision    recall  f1-score   support\n",
      "\n",
      "   Bengin_cases       1.00      0.93      0.96        29\n",
      "Malignant_cases       0.99      1.00      1.00       109\n",
      "   Normal_cases       0.98      0.99      0.98        82\n",
      "\n",
      "       accuracy                           0.99       220\n",
      "      macro avg       0.99      0.97      0.98       220\n",
      "   weighted avg       0.99      0.99      0.99       220\n",
      "\n"
     ]
    },
    {
     "data": {
      "image/png": "[encoded data removed]",
      "text/plain": [
       "<Figure size 800x500 with 1 Axes>"
      ]
     },
     "metadata": {},
     "output_type": "display_data"
    }
   ],
   "source": [
    "import matplotlib.pyplot as plt\n",
    "\n",
    "# Store results for plotting\n",
    "accuracies = []\n",
    "\n",
    "for name, model in models.items():\n",
    "    print(f\"\\n🔍 Training and Evaluating: {name}\")\n",
    "    model.fit(X_train, y_train)\n",
    "    y_pred = model.predict(X_test)\n",
    "\n",
    "    acc = accuracy_score(y_test, y_pred)\n",
    "    accuracies.append((name, acc))\n",
    "\n",
    "    print(f\"✅ Accuracy ({name}): {acc:.4f}\")\n",
    "    print(f\"📊 Classification Report for {name}:\\n{classification_report(y_test, y_pred, target_names=le.classes_)}\")\n",
    "\n",
    "# --------------------------------\n",
    "# 📈 Plot Accuracy Comparison\n",
    "# --------------------------------\n",
    "model_names = [name for name, _ in accuracies]\n",
    "accuracy_scores = [score for _, score in accuracies]\n",
    "\n",
    "plt.figure(figsize=(8, 5))\n",
    "plt.bar(model_names, accuracy_scores, color=['skyblue', 'lightgreen', 'salmon'])\n",
    "plt.title(\"Model Accuracy Comparison (GLCM + HOG)\")\n",
    "plt.xlabel(\"Classifier\")\n",
    "plt.ylabel(\"Accuracy\")\n",
    "plt.ylim(0, 1)\n",
    "for i, acc in enumerate(accuracy_scores):\n",
    "    plt.text(i, acc + 0.01, f\"{acc:.2f}\", ha='center', fontsize=10)\n",
    "plt.grid(axis='y', linestyle='--', alpha=0.6)\n",
    "plt.tight_layout()\n",
    "plt.show()\n"
   ]
  },
  {
   "cell_type": "code",
   "execution_count": null,
   "id": "4c6ac9d8-3a40-46f3-9cd9-d32f75e81190",
   "metadata": {},
   "outputs": [],
   "source": []
  }
 ],
 "metadata": {
  "kernelspec": {
   "display_name": "Python 3 (ipykernel)",
   "language": "python",
   "name": "python3"
  },
  "language_info": {
   "codemirror_mode": {
    "name": "ipython",
    "version": 3
   },
   "file_extension": ".py",
   "mimetype": "text/x-python",
   "name": "python",
   "nbconvert_exporter": "python",
   "pygments_lexer": "ipython3",
   "version": "3.12.4"
  }
 },
 "nbformat": 4,
 "nbformat_minor": 5
}
